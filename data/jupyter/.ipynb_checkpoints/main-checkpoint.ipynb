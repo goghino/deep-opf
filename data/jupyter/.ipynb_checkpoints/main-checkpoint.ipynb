{
 "cells": [
  {
   "cell_type": "markdown",
   "metadata": {
    "collapsed": true,
    "pycharm": {
     "name": "#%% md\n"
    }
   },
   "source": [
    "<h1>Import the data</h1>\n",
    "\n",
    "For case30: 30 loads (input), 6 generators (output)\n",
    "\n",
    "!NOTE: I may have gotten the variable names switched in MATLAB\n",
    "\n",
    "For reference:\n",
    "<p float=\"left\">\n",
    "    <img src=\"matpower_glossary_1.png\" height=\"600\" />\n",
    "    <img src=\"matpower_glossary_2.png\" height=\"600\" />\n",
    "    <img src=\"matpower_glossary_3.png\" height=\"600\" />\n",
    "</p>"
   ]
  },
  {
   "cell_type": "code",
   "execution_count": 1,
   "metadata": {
    "pycharm": {
     "name": "#%%\n"
    }
   },
   "outputs": [
    {
     "name": "stdout",
     "output_type": "stream",
     "text": [
      "(3111, 30)\n",
      "(3111, 6)\n"
     ]
    }
   ],
   "source": [
    "import csv\n",
    "import numpy as np\n",
    "import pandas as pd\n",
    "\n",
    "path_PD = '../csv/sample_case30_PD.csv'\n",
    "path_PG = '../csv/sample_case30_PG.csv'\n",
    "path_LAM_P = '../csv/sample_case30_LAM_P.csv'\n",
    "#data_inputs = pd.read_csv(path_inputs, delimiter=',', header=None)\n",
    "#data_outputs = pd.read_csv(path_outputs, delimiter=',', header=None)\n",
    "#data_inputs.head(10)\n",
    "#print(data_inputs.shape)\n",
    "#print(data_outputs.shape)\n",
    "PD = pd.read_csv(path_PD, delimiter=',', header=None)\n",
    "PG = pd.read_csv(path_PG, delimiter=',', header=None)\n",
    "print(PD.shape)\n",
    "print(PG.shape)"
   ]
  },
  {
   "cell_type": "markdown",
   "metadata": {},
   "source": [
    "Organize the training data, assuming proper inputs are PD and outputs are PG (excluding LAM_P for now)"
   ]
  },
  {
   "cell_type": "code",
   "execution_count": 2,
   "metadata": {
    "pycharm": {
     "name": "#%%\n"
    }
   },
   "outputs": [
    {
     "name": "stdout",
     "output_type": "stream",
     "text": [
      "(2488, 30)\n",
      "(311, 30)\n",
      "(312, 30)\n",
      "(2488, 6)\n",
      "(311, 6)\n",
      "(312, 6)\n"
     ]
    }
   ],
   "source": [
    "from sklearn.model_selection import train_test_split\n",
    "\n",
    "# organize the training data: split & shuffle\n",
    "PD_train, PD_test, PG_train, PG_test = \\\n",
    "    train_test_split(PD, PG, test_size=0.2, random_state=42, shuffle=True)\n",
    "\n",
    "# split test into test & validation\n",
    "PD_valid, PD_test, PG_valid, PG_test = \\\n",
    "    train_test_split(PD_test, PG_test, test_size=0.5, random_state=42, shuffle=True)\n",
    "\n",
    "print(PD_train.shape)\n",
    "print(PD_valid.shape)\n",
    "print(PD_test.shape)\n",
    "print(PG_train.shape)\n",
    "print(PG_valid.shape)\n",
    "print(PG_test.shape)\n",
    "# print(id(PD))\n",
    "# print(id(PD_train))\n",
    "# print(id(PD_copy))\n"
   ]
  },
  {
   "cell_type": "code",
   "execution_count": 3,
   "metadata": {
    "pycharm": {
     "name": "#%%\n"
    }
   },
   "outputs": [
    {
     "name": "stdout",
     "output_type": "stream",
     "text": [
      "(3111, 30)\n",
      "140344969772384\n",
      "140345009316448\n",
      "(3111, 6)\n",
      "140344969813632\n",
      "140345009316528\n"
     ]
    }
   ],
   "source": [
    "# create copy before normalizing\n",
    "PD_copy = np.copy(PD_train + PD_valid + PD_test)\n",
    "print(PD_copy.shape)\n",
    "print(id(PD))\n",
    "print(id(PD_copy))\n",
    "\n",
    "PG_copy = np.copy(PG_train + PG_valid + PG_test)\n",
    "print(PG_copy.shape)\n",
    "print(id(PG))\n",
    "print(id(PG_copy))\n",
    "\n",
    "# normalize\n",
    "PD_train -= np.mean(PD_train, axis=0)\n",
    "PD_train /= np.std(PD_train, axis=0)\n",
    "PD_valid -= np.mean(PD_valid, axis=0)\n",
    "PD_valid /= np.std(PD_valid, axis=0)\n",
    "PD_test -= np.mean(PD_test, axis=0)\n",
    "PD_test /= np.std(PD_test, axis=0)\n",
    "\n",
    "PG_train -= np.mean(PG_train, axis=0)\n",
    "PG_train /= np.std(PG_train, axis=0)\n",
    "PG_valid -= np.mean(PG_valid, axis=0)\n",
    "PG_valid /= np.std(PG_valid, axis=0)\n",
    "PG_test -= np.mean(PG_test, axis=0)\n",
    "PG_test /= np.std(PG_test, axis=0)"
   ]
  },
  {
   "cell_type": "markdown",
   "metadata": {
    "pycharm": {
     "name": "#%% md\n"
    }
   },
   "source": [
    "Training NN with PD as inputs and PG as outputs:\n",
    "<b>NOTE:</b> The loss function in the paper combines MSE with a penalty term for infeasibility. Include feasibility later"
   ]
  },
  {
   "cell_type": "code",
   "execution_count": 4,
   "metadata": {
    "pycharm": {
     "name": "#%%\n"
    }
   },
   "outputs": [
    {
     "ename": "ModuleNotFoundError",
     "evalue": "No module named 'tensorflow'",
     "output_type": "error",
     "traceback": [
      "\u001b[0;31m---------------------------------------------------------------------------\u001b[0m",
      "\u001b[0;31mModuleNotFoundError\u001b[0m                       Traceback (most recent call last)",
      "\u001b[0;32m<ipython-input-4-a5c5c1763e25>\u001b[0m in \u001b[0;36m<module>\u001b[0;34m\u001b[0m\n\u001b[0;32m----> 1\u001b[0;31m \u001b[0;32mimport\u001b[0m \u001b[0mtensorflow\u001b[0m\u001b[0;34m\u001b[0m\u001b[0;34m\u001b[0m\u001b[0m\n\u001b[0m\u001b[1;32m      2\u001b[0m \u001b[0;32mfrom\u001b[0m \u001b[0mtensorflow\u001b[0m \u001b[0;32mimport\u001b[0m \u001b[0mkeras\u001b[0m\u001b[0;34m\u001b[0m\u001b[0;34m\u001b[0m\u001b[0m\n\u001b[1;32m      3\u001b[0m \u001b[0;32mfrom\u001b[0m \u001b[0mtensorflow\u001b[0m\u001b[0;34m.\u001b[0m\u001b[0mkeras\u001b[0m \u001b[0;32mimport\u001b[0m \u001b[0mInput\u001b[0m\u001b[0;34m,\u001b[0m \u001b[0mModel\u001b[0m\u001b[0;34m\u001b[0m\u001b[0;34m\u001b[0m\u001b[0m\n\u001b[1;32m      4\u001b[0m \u001b[0;32mfrom\u001b[0m \u001b[0mtensorflow\u001b[0m\u001b[0;34m.\u001b[0m\u001b[0mkeras\u001b[0m\u001b[0;34m.\u001b[0m\u001b[0mmodels\u001b[0m \u001b[0;32mimport\u001b[0m \u001b[0mSequential\u001b[0m\u001b[0;34m\u001b[0m\u001b[0;34m\u001b[0m\u001b[0m\n\u001b[1;32m      5\u001b[0m \u001b[0;32mfrom\u001b[0m \u001b[0mtensorflow\u001b[0m\u001b[0;34m.\u001b[0m\u001b[0mkeras\u001b[0m\u001b[0;34m.\u001b[0m\u001b[0mlayers\u001b[0m \u001b[0;32mimport\u001b[0m \u001b[0mDense\u001b[0m\u001b[0;34m\u001b[0m\u001b[0;34m\u001b[0m\u001b[0m\n",
      "\u001b[0;31mModuleNotFoundError\u001b[0m: No module named 'tensorflow'"
     ]
    }
   ],
   "source": [
    "import tensorflow\n",
    "from tensorflow import keras\n",
    "from tensorflow.keras import Input, Model\n",
    "from tensorflow.keras.models import Sequential\n",
    "from tensorflow.keras.layers import Dense\n",
    "from tensorflow.keras import losses\n",
    "\n",
    "\n",
    "\n",
    "nn_model = Sequential()\n",
    "nn_model.add(Dense(16, activation='relu'))\n",
    "nn_model.add(Dense(16, activation='relu'))\n",
    "nn_model.add(Dense(6, activation='sigmoid'))\n",
    "\n",
    "nn_model.compile(optimizer='sgd',\n",
    "                 loss='mse')\n",
    "\n",
    "# Prevent overfitting\n",
    "from tensorflow.keras.callbacks import EarlyStopping\n",
    "es = EarlyStopping(monitor='val_loss', patience=50, restore_best_weights=True)\n",
    "\n",
    "# Train the network\n",
    "nn_model.fit(PD_train, PG_train, epochs=3000, validation_data=(PD_valid, PG_valid), verbose=1, callbacks = [es])\n",
    "\n",
    "# evaluate performance\n",
    "nn_test_predictions = nn_model.predict(PD_test)\n",
    "nn_mse = mean_squared_error(PG_test, nn_test_predictions)"
   ]
  },
  {
   "cell_type": "markdown",
   "metadata": {},
   "source": []
  }
 ],
 "metadata": {
  "kernelspec": {
   "display_name": "Python (myenv)",
   "language": "python",
   "name": "myenv"
  },
  "language_info": {
   "codemirror_mode": {
    "name": "ipython",
    "version": 3
   },
   "file_extension": ".py",
   "mimetype": "text/x-python",
   "name": "python",
   "nbconvert_exporter": "python",
   "pygments_lexer": "ipython3",
   "version": "3.8.5"
  }
 },
 "nbformat": 4,
 "nbformat_minor": 1
}
